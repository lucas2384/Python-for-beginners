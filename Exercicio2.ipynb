{
  "nbformat": 4,
  "nbformat_minor": 0,
  "metadata": {
    "colab": {
      "name": "Exercicio2",
      "provenance": [],
      "collapsed_sections": [],
      "authorship_tag": "ABX9TyPhZ3g+abIdRUSIV6fjrL+w",
      "include_colab_link": true
    },
    "kernelspec": {
      "name": "python3",
      "display_name": "Python 3"
    }
  },
  "cells": [
    {
      "cell_type": "markdown",
      "metadata": {
        "id": "view-in-github",
        "colab_type": "text"
      },
      "source": [
        "<a href=\"https://colab.research.google.com/github/lucas2384/Python-for-beginners/blob/master/Exercicio2.ipynb\" target=\"_parent\"><img src=\"https://colab.research.google.com/assets/colab-badge.svg\" alt=\"Open In Colab\"/></a>"
      ]
    },
    {
      "cell_type": "code",
      "metadata": {
        "id": "I-ZzGcX8InyQ",
        "colab_type": "code",
        "colab": {
          "base_uri": "https://localhost:8080/",
          "height": 34
        },
        "outputId": "007bf6e4-16fb-489d-cd97-19010149efef"
      },
      "source": [
        "fruta = 'laranja'\n",
        "type(fruta)\n",
        "#string %s - float %f - Int %d"
      ],
      "execution_count": 14,
      "outputs": [
        {
          "output_type": "execute_result",
          "data": {
            "text/plain": [
              "str"
            ]
          },
          "metadata": {
            "tags": []
          },
          "execution_count": 14
        }
      ]
    },
    {
      "cell_type": "code",
      "metadata": {
        "id": "c7xJUsG2I2EB",
        "colab_type": "code",
        "colab": {
          "base_uri": "https://localhost:8080/",
          "height": 34
        },
        "outputId": "cd0ade4a-4f60-452e-c162-982580004c38"
      },
      "source": [
        "print ('suco de %s é o meu favorito!' %fruta)"
      ],
      "execution_count": 16,
      "outputs": [
        {
          "output_type": "stream",
          "text": [
            "suco de laranja é o meu favorito!\n"
          ],
          "name": "stdout"
        }
      ]
    },
    {
      "cell_type": "code",
      "metadata": {
        "id": "bgxF-KltJ_dl",
        "colab_type": "code",
        "colab": {
          "base_uri": "https://localhost:8080/",
          "height": 34
        },
        "outputId": "dfbeac3f-3bfa-41c2-a4c0-5ee16cce3aef"
      },
      "source": [
        "print('Suco de {} é o meu favorito!'. format(fruta))"
      ],
      "execution_count": 21,
      "outputs": [
        {
          "output_type": "stream",
          "text": [
            "Suco de laranja é o meu favorito!\n"
          ],
          "name": "stdout"
        }
      ]
    },
    {
      "cell_type": "code",
      "metadata": {
        "id": "31G4z_qEKpkq",
        "colab_type": "code",
        "colab": {}
      },
      "source": [
        "cor1 = 'azul'\n",
        "cor2 = 'rosa'"
      ],
      "execution_count": 26,
      "outputs": []
    },
    {
      "cell_type": "code",
      "metadata": {
        "id": "wiV_J1pRK1KE",
        "colab_type": "code",
        "colab": {
          "base_uri": "https://localhost:8080/",
          "height": 34
        },
        "outputId": "f4eef013-993a-4793-be6f-47d4ec4a14c6"
      },
      "source": [
        "print('o céu é {0}, a flor é {1} e meu carro é {0}'. format(cor1,cor2))"
      ],
      "execution_count": 27,
      "outputs": [
        {
          "output_type": "stream",
          "text": [
            "o céu é azul, a flor é rosa e meu carro é azul\n"
          ],
          "name": "stdout"
        }
      ]
    },
    {
      "cell_type": "code",
      "metadata": {
        "id": "AI_NsaRHL8o0",
        "colab_type": "code",
        "colab": {
          "base_uri": "https://localhost:8080/",
          "height": 34
        },
        "outputId": "603dcbec-455b-4437-a504-1c6fb33acb31"
      },
      "source": [
        "conta = 17/3\n",
        "print(conta)"
      ],
      "execution_count": 39,
      "outputs": [
        {
          "output_type": "stream",
          "text": [
            "5.666666666666667\n"
          ],
          "name": "stdout"
        }
      ]
    },
    {
      "cell_type": "code",
      "metadata": {
        "id": "GlLIE50ZMOB0",
        "colab_type": "code",
        "colab": {
          "base_uri": "https://localhost:8080/",
          "height": 34
        },
        "outputId": "c1b075d9-67c4-402b-cf41-bbed116f9eb7"
      },
      "source": [
        "#para ficar com apenas duas casas decimais após a virgula devemos inserir :.2f\n",
        "print('O resultado da conta é: {:.2f}' . format(conta))"
      ],
      "execution_count": 33,
      "outputs": [
        {
          "output_type": "stream",
          "text": [
            "O resultado da conta é: 5.67\n"
          ],
          "name": "stdout"
        }
      ]
    },
    {
      "cell_type": "code",
      "metadata": {
        "id": "RUf0eNfyM-aL",
        "colab_type": "code",
        "colab": {
          "base_uri": "https://localhost:8080/",
          "height": 34
        },
        "outputId": "2f9b3100-a170-471b-a1fa-cc672f1d3359"
      },
      "source": [
        "conta1 = 17/3\n",
        "print(conta)"
      ],
      "execution_count": 38,
      "outputs": [
        {
          "output_type": "stream",
          "text": [
            "5.666666666666667\n"
          ],
          "name": "stdout"
        }
      ]
    },
    {
      "cell_type": "code",
      "metadata": {
        "id": "Ri8M6wikkw2b",
        "colab_type": "code",
        "colab": {
          "base_uri": "https://localhost:8080/",
          "height": 35
        },
        "outputId": "a405c57f-aab6-494c-9aa6-a359d6bb9b82"
      },
      "source": [
        "('O resultado da conta é: {:.2f}' .format(conta))"
      ],
      "execution_count": 37,
      "outputs": [
        {
          "output_type": "execute_result",
          "data": {
            "application/vnd.google.colaboratory.intrinsic+json": {
              "type": "string"
            },
            "text/plain": [
              "'O resultado da conta é: 5.67'"
            ]
          },
          "metadata": {
            "tags": []
          },
          "execution_count": 37
        }
      ]
    }
  ]
}