{
  "nbformat": 4,
  "nbformat_minor": 0,
  "metadata": {
    "colab": {
      "name": "Exercicio 1_Didatica Tech",
      "provenance": [],
      "collapsed_sections": [],
      "authorship_tag": "ABX9TyMhnH1WoPiF48L0SiAqivdR",
      "include_colab_link": true
    },
    "kernelspec": {
      "name": "python3",
      "display_name": "Python 3"
    }
  },
  "cells": [
    {
      "cell_type": "markdown",
      "metadata": {
        "id": "view-in-github",
        "colab_type": "text"
      },
      "source": [
        "<a href=\"https://colab.research.google.com/github/lucas2384/Python-for-beginners/blob/master/Exercicio_1_Didatica_Tech.ipynb\" target=\"_parent\"><img src=\"https://colab.research.google.com/assets/colab-badge.svg\" alt=\"Open In Colab\"/></a>"
      ]
    },
    {
      "cell_type": "code",
      "metadata": {
        "id": "YCBwaSlIqFfG",
        "colab_type": "code",
        "colab": {}
      },
      "source": [
        "print ('Olá, Mundo!')"
      ],
      "execution_count": null,
      "outputs": []
    },
    {
      "cell_type": "code",
      "metadata": {
        "id": "3l1P-ksj6qpk",
        "colab_type": "code",
        "colab": {}
      },
      "source": [
        "print ('Lucas')"
      ],
      "execution_count": null,
      "outputs": []
    },
    {
      "cell_type": "code",
      "metadata": {
        "id": "lGuJEXhd60ki",
        "colab_type": "code",
        "colab": {}
      },
      "source": [
        "print ('oi')"
      ],
      "execution_count": null,
      "outputs": []
    },
    {
      "cell_type": "code",
      "metadata": {
        "id": "A1FdLEXI7KY2",
        "colab_type": "code",
        "colab": {}
      },
      "source": [
        "input_variable = input (\"Enter your name: \")\n",
        "print (\"your name is: \" + input_variable)"
      ],
      "execution_count": null,
      "outputs": []
    },
    {
      "cell_type": "code",
      "metadata": {
        "id": "J3vXokbI7dAY",
        "colab_type": "code",
        "colab": {}
      },
      "source": [
        "print('Oi,')\n",
        "print('tudo bem?')"
      ],
      "execution_count": null,
      "outputs": []
    },
    {
      "cell_type": "code",
      "metadata": {
        "id": "T0b3fP5j7roU",
        "colab_type": "code",
        "colab": {}
      },
      "source": [
        "#isso é um comentário\n",
        "print('O Juliana, o que tu quer de mim?')"
      ],
      "execution_count": null,
      "outputs": []
    },
    {
      "cell_type": "code",
      "metadata": {
        "id": "h8SLoCSfBR-4",
        "colab_type": "code",
        "colab": {}
      },
      "source": [
        "print(10-5)"
      ],
      "execution_count": null,
      "outputs": []
    },
    {
      "cell_type": "code",
      "metadata": {
        "id": "KAAltxrdBd03",
        "colab_type": "code",
        "colab": {}
      },
      "source": [
        "print(5*3)"
      ],
      "execution_count": null,
      "outputs": []
    },
    {
      "cell_type": "code",
      "metadata": {
        "id": "Zp4irxvSCH_4",
        "colab_type": "code",
        "colab": {}
      },
      "source": [
        "print(5//2)"
      ],
      "execution_count": null,
      "outputs": []
    },
    {
      "cell_type": "code",
      "metadata": {
        "id": "G6fof3FsCiJC",
        "colab_type": "code",
        "colab": {}
      },
      "source": [
        "a = 5\n",
        "a == 5"
      ],
      "execution_count": null,
      "outputs": []
    },
    {
      "cell_type": "code",
      "metadata": {
        "id": "-hYiaHWdDUtb",
        "colab_type": "code",
        "colab": {}
      },
      "source": [
        "b =7\n",
        "c = a+b\n",
        "print(c)"
      ],
      "execution_count": null,
      "outputs": []
    },
    {
      "cell_type": "code",
      "metadata": {
        "id": "6afJ8Z0sDuIU",
        "colab_type": "code",
        "colab": {}
      },
      "source": [
        "variavel1 = 3\n",
        "variavel2 = 4\n",
        "variavel1 = 9\n",
        "print(variavel1)"
      ],
      "execution_count": null,
      "outputs": []
    },
    {
      "cell_type": "code",
      "metadata": {
        "id": "P1Gbz4ZaEQpr",
        "colab_type": "code",
        "colab": {}
      },
      "source": [
        "b = 11 "
      ],
      "execution_count": null,
      "outputs": []
    },
    {
      "cell_type": "code",
      "metadata": {
        "id": "yqzoUC6IE6yr",
        "colab_type": "code",
        "colab": {
          "base_uri": "https://localhost:8080/",
          "height": 34
        },
        "outputId": "fdbb95be-84d7-47ed-c17c-44924041c03c"
      },
      "source": [
        "var = 4\n",
        "var2 = 3.5\n",
        "type (var2)"
      ],
      "execution_count": 42,
      "outputs": [
        {
          "output_type": "execute_result",
          "data": {
            "text/plain": [
              "float"
            ]
          },
          "metadata": {
            "tags": []
          },
          "execution_count": 42
        }
      ]
    },
    {
      "cell_type": "code",
      "metadata": {
        "id": "Ag2zcV_CFMtW",
        "colab_type": "code",
        "colab": {
          "base_uri": "https://localhost:8080/",
          "height": 34
        },
        "outputId": "74a83396-a9ca-45bb-e498-660c2044002c"
      },
      "source": [
        "palavra = 'frase 1'\n",
        "type (palavra)"
      ],
      "execution_count": 45,
      "outputs": [
        {
          "output_type": "execute_result",
          "data": {
            "text/plain": [
              "str"
            ]
          },
          "metadata": {
            "tags": []
          },
          "execution_count": 45
        }
      ]
    },
    {
      "cell_type": "code",
      "metadata": {
        "id": "jDxKTqsnFn2F",
        "colab_type": "code",
        "colab": {
          "base_uri": "https://localhost:8080/",
          "height": 34
        },
        "outputId": "9c947abc-0ed4-49a6-df74-c65dad9a0a08"
      },
      "source": [
        "print(var +var2)"
      ],
      "execution_count": 46,
      "outputs": [
        {
          "output_type": "stream",
          "text": [
            "7.5\n"
          ],
          "name": "stdout"
        }
      ]
    },
    {
      "cell_type": "code",
      "metadata": {
        "id": "RVDKxSYsFyBz",
        "colab_type": "code",
        "colab": {}
      },
      "source": [
        "print (var + palavra)"
      ],
      "execution_count": null,
      "outputs": []
    },
    {
      "cell_type": "code",
      "metadata": {
        "id": "4s4dPtKJF1fO",
        "colab_type": "code",
        "colab": {
          "base_uri": "https://localhost:8080/",
          "height": 34
        },
        "outputId": "1f4b7279-470d-4c70-979a-9d05cbc501ab"
      },
      "source": [
        "nome = input ('Qual seu nome?: ')"
      ],
      "execution_count": 50,
      "outputs": [
        {
          "output_type": "stream",
          "text": [
            "Qual seu nome?: Lucas\n"
          ],
          "name": "stdout"
        }
      ]
    },
    {
      "cell_type": "code",
      "metadata": {
        "id": "pub03F5wGX-C",
        "colab_type": "code",
        "colab": {
          "base_uri": "https://localhost:8080/",
          "height": 34
        },
        "outputId": "18862356-8586-47d8-f0fe-5bc91b35ae80"
      },
      "source": [
        "print (nome)"
      ],
      "execution_count": 51,
      "outputs": [
        {
          "output_type": "stream",
          "text": [
            "Lucas\n"
          ],
          "name": "stdout"
        }
      ]
    },
    {
      "cell_type": "code",
      "metadata": {
        "id": "UDhNN_HHGfcl",
        "colab_type": "code",
        "colab": {
          "base_uri": "https://localhost:8080/",
          "height": 34
        },
        "outputId": "140a1939-0517-42f1-99fe-a66c7d67acc1"
      },
      "source": [
        "idade = input('Qual a sua idade?: ')"
      ],
      "execution_count": 52,
      "outputs": [
        {
          "output_type": "stream",
          "text": [
            "Qual a sua idade?: 36\n"
          ],
          "name": "stdout"
        }
      ]
    },
    {
      "cell_type": "code",
      "metadata": {
        "id": "s-7zGX3lGlo1",
        "colab_type": "code",
        "colab": {
          "base_uri": "https://localhost:8080/",
          "height": 34
        },
        "outputId": "08a41dde-06c0-402f-be87-0874cb8bc29d"
      },
      "source": [
        "print(idade*2)"
      ],
      "execution_count": 53,
      "outputs": [
        {
          "output_type": "stream",
          "text": [
            "3636\n"
          ],
          "name": "stdout"
        }
      ]
    },
    {
      "cell_type": "code",
      "metadata": {
        "id": "PsqFPsJxG0e9",
        "colab_type": "code",
        "colab": {
          "base_uri": "https://localhost:8080/",
          "height": 51
        },
        "outputId": "6868a05d-9fce-4b57-8c09-e4249fe198f3"
      },
      "source": [
        "idade = int (input (\"Qual a sua idade? \"))\n",
        "type(idade)"
      ],
      "execution_count": 63,
      "outputs": [
        {
          "output_type": "stream",
          "text": [
            "Qual a sua idade? 36\n"
          ],
          "name": "stdout"
        },
        {
          "output_type": "execute_result",
          "data": {
            "text/plain": [
              "int"
            ]
          },
          "metadata": {
            "tags": []
          },
          "execution_count": 63
        }
      ]
    },
    {
      "cell_type": "code",
      "metadata": {
        "id": "jynFxxubHiIM",
        "colab_type": "code",
        "colab": {
          "base_uri": "https://localhost:8080/",
          "height": 34
        },
        "outputId": "4854b863-1e6b-493a-d2f4-c6d3728079a2"
      },
      "source": [
        "print (idade*2)"
      ],
      "execution_count": 64,
      "outputs": [
        {
          "output_type": "stream",
          "text": [
            "72\n"
          ],
          "name": "stdout"
        }
      ]
    },
    {
      "cell_type": "code",
      "metadata": {
        "id": "XRPqp6fKINM4",
        "colab_type": "code",
        "colab": {
          "base_uri": "https://localhost:8080/",
          "height": 34
        },
        "outputId": "5135a6f4-c596-433d-9a55-9279354ababe"
      },
      "source": [
        "idade = float (input('Digite: '))"
      ],
      "execution_count": 66,
      "outputs": [
        {
          "output_type": "stream",
          "text": [
            "Digite: 36\n"
          ],
          "name": "stdout"
        }
      ]
    },
    {
      "cell_type": "code",
      "metadata": {
        "id": "MXhTfCloIam5",
        "colab_type": "code",
        "colab": {
          "base_uri": "https://localhost:8080/",
          "height": 34
        },
        "outputId": "fe1ca020-3629-4491-8973-932a52b27385"
      },
      "source": [
        "type (idade)"
      ],
      "execution_count": 67,
      "outputs": [
        {
          "output_type": "execute_result",
          "data": {
            "text/plain": [
              "float"
            ]
          },
          "metadata": {
            "tags": []
          },
          "execution_count": 67
        }
      ]
    },
    {
      "cell_type": "code",
      "metadata": {
        "id": "j-1lQ_IMIexY",
        "colab_type": "code",
        "colab": {}
      },
      "source": [
        ""
      ],
      "execution_count": null,
      "outputs": []
    }
  ]
}